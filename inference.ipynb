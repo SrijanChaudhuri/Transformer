{
 "cells": [
  {
   "cell_type": "code",
   "execution_count": 3,
   "metadata": {},
   "outputs": [],
   "source": [
    "from pathlib import Path\n",
    "import torch\n",
    "import torch.nn as nn\n",
    "from config import get_config, get_weights_file_path\n",
    "from train import get_model, get_ds, run_validation"
   ]
  },
  {
   "cell_type": "code",
   "execution_count": 5,
   "metadata": {},
   "outputs": [
    {
     "name": "stdout",
     "output_type": "stream",
     "text": [
      "Using device: cpu\n",
      "Max length of source sentence: 309\n",
      "Max length of target sentence: 274\n"
     ]
    },
    {
     "name": "stderr",
     "output_type": "stream",
     "text": [
      "/var/folders/dq/kdh8pgk12hq7g9nsxj1_65m40000gn/T/ipykernel_90434/348075204.py:8: FutureWarning: You are using `torch.load` with `weights_only=False` (the current default value), which uses the default pickle module implicitly. It is possible to construct malicious pickle data which will execute arbitrary code during unpickling (See https://github.com/pytorch/pytorch/blob/main/SECURITY.md#untrusted-models for more details). In a future release, the default value for `weights_only` will be flipped to `True`. This limits the functions that could be executed during unpickling. Arbitrary objects will no longer be allowed to be loaded via this mode unless they are explicitly allowlisted by the user via `torch.serialization.add_safe_globals`. We recommend you start setting `weights_only=True` for any use case where you don't have full control of the loaded file. Please open an issue on GitHub for any issues related to this experimental feature.\n",
      "  state = torch.load(model_filename)\n"
     ]
    },
    {
     "data": {
      "text/plain": [
       "<All keys matched successfully>"
      ]
     },
     "execution_count": 5,
     "metadata": {},
     "output_type": "execute_result"
    }
   ],
   "source": [
    "device = torch.device('cuda' if torch.cuda.is_available() else 'cpu')\n",
    "print(f'Using device: {device}')\n",
    "config = get_config()\n",
    "train_dataloader, val_dataloader, tokenizer_src, tokenizer_tgt = get_ds(config)\n",
    "model = get_model(config, tokenizer_src.get_vocab_size(), tokenizer_tgt.get_vocab_size()).to(device)\n",
    "\n",
    "model_filename = get_weights_file_path(config, f\"epoch00\")\n",
    "state = torch.load(model_filename)\n",
    "model.load_state_dict(state['model_state_dict'])"
   ]
  },
  {
   "cell_type": "code",
   "execution_count": 6,
   "metadata": {},
   "outputs": [
    {
     "name": "stdout",
     "output_type": "stream",
     "text": [
      "--------------------------------------------------------------------------------\n",
      "    SOURCE: The west wind whispered in the ivy round me; but no gentle Ariel borrowed its breath as a medium of speech: the birds sang in the tree-tops; but their song, however sweet, was inarticulate.\n",
      "    TARGET: La brezza d'occidente scherzava fra l'edera, ma il gentile Ariele non si servì del suo soffio come mezzo per parlarmi. Gli uccelli cantavano in cima agli alberi, ma il loro dolce canto non diceva nulla.\n",
      " PREDICTED: La mia volta , e , e , e , e , e , e , e , e , e .\n",
      "--------------------------------------------------------------------------------\n",
      "    SOURCE: From Abingdon to Nuneham Courteney is a lovely stretch.\n",
      "    TARGET: Da Abingdon a Nuneham Courtvey è uno splendido tratto.\n",
      " PREDICTED: La mia volta , .\n",
      "--------------------------------------------------------------------------------\n",
      "    SOURCE: Discussions in drawing-rooms, at meetings, at assemblies, in committees, and everywhere where one could speak, took up part of his time; but, as an habitual town-dweller, he did not allow himself to be entirely absorbed by discussions, as his inexperienced brother did when he was in Moscow; so he had much superfluous leisure and mental energy.\n",
      "    TARGET: I discorsi nei salotti, nei congressi, nelle riunioni, nei comitati, dovunque si parlasse, occupavano una parte del suo tempo; ma, vecchio abitante di città, non si concedeva di perdersi tutto in discorsi, come il suo inesperto fratello quand’era a Mosca; gli rimanevano così ancora molto tempo libero e molte energie intellettuali.\n",
      " PREDICTED: La sua volta , e la sua volta , e il suo momento , e il suo momento , e , e il suo momento , e , e , e , e , e , e , e il suo momento , e non si a .\n",
      "--------------------------------------------------------------------------------\n",
      "    SOURCE: I live quite apart from him.'\n",
      "    TARGET: Io vivo del tutto indipendente da lui.\n",
      " PREDICTED: Non ho detto .\n",
      "--------------------------------------------------------------------------------\n",
      "    SOURCE: \"Why?\n",
      "    TARGET: — Perché?\n",
      " PREDICTED: — Che cosa ?\n",
      "--------------------------------------------------------------------------------\n",
      "    SOURCE: I shall go for a walk on the boulevard with Papa.\n",
      "    TARGET: Io andrò a passeggio con papà sul viale.\n",
      " PREDICTED: Non ho detto a .\n",
      "--------------------------------------------------------------------------------\n",
      "    SOURCE: You are so deeply hurt, so upset, that you see many things in the wrong light.'\n",
      "    TARGET: Sei tanto offesa, tanto eccitata che molte cose le vedi come non sono.\n",
      " PREDICTED: Non è un ’ altra , e , e .\n",
      "--------------------------------------------------------------------------------\n",
      "    SOURCE: 'I am in love already.'\n",
      "    TARGET: — Io sono già innamorato.\n",
      " PREDICTED: — Non è molto .\n",
      "--------------------------------------------------------------------------------\n",
      "    SOURCE: \"I am not sick.\"\n",
      "    TARGET: — Non mi sento male.\n",
      " PREDICTED: — Non è più .\n",
      "--------------------------------------------------------------------------------\n",
      "    SOURCE: \"I know where your heart turns and to what it clings.\n",
      "    TARGET: — So verso quale oggetto mirate e a che cosa si attacca il vostro cuore.\n",
      " PREDICTED: — Non è un ’ altra , — disse .\n",
      "--------------------------------------------------------------------------------\n"
     ]
    }
   ],
   "source": [
    "run_validation(model, val_dataloader, tokenizer_src, tokenizer_tgt, config['seq_len'], device, lambda msg: print(msg), 0, None, num_examples=10)"
   ]
  },
  {
   "cell_type": "markdown",
   "metadata": {},
   "source": []
  }
 ],
 "metadata": {
  "kernelspec": {
   "display_name": ".venv",
   "language": "python",
   "name": "python3"
  },
  "language_info": {
   "codemirror_mode": {
    "name": "ipython",
    "version": 3
   },
   "file_extension": ".py",
   "mimetype": "text/x-python",
   "name": "python",
   "nbconvert_exporter": "python",
   "pygments_lexer": "ipython3",
   "version": "3.12.3"
  }
 },
 "nbformat": 4,
 "nbformat_minor": 2
}
